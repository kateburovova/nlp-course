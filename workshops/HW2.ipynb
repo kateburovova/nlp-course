{
 "cells": [
  {
   "cell_type": "code",
   "execution_count": 1,
   "metadata": {
    "collapsed": true,
    "pycharm": {
     "is_executing": false
    }
   },
   "outputs": [],
   "source": [
    "import torch\n",
    "import torch.nn as nn\n",
    "import string  \n",
    "\n",
    "\n",
    "from gensim.models import KeyedVectors\n",
    "from torch.nn import Dropout\n",
    "from gensim.scripts.glove2word2vec import glove2word2vec\n",
    "from nltk import word_tokenize\n",
    "from collections import Counter\n",
    "from itertools import chain\n",
    "\n"
   ]
  },
  {
   "cell_type": "code",
   "execution_count": 2,
   "outputs": [
    {
     "data": {
      "text/plain": "(2196018, 300)"
     },
     "metadata": {},
     "output_type": "execute_result",
     "execution_count": 2
    }
   ],
   "source": [
    "glove2word2vec(glove_input_file=\"/Users/macbook/Downloads/glove.840B.300d 2.txt\", word2vec_output_file=\"gensim_glove_vectors.txt\")"
   ],
   "metadata": {
    "collapsed": false,
    "pycharm": {
     "name": "#%%\n",
     "is_executing": false
    }
   }
  },
  {
   "cell_type": "code",
   "execution_count": 3,
   "outputs": [],
   "source": [
    "glove_model = KeyedVectors.load_word2vec_format(\"/Users/macbook/PycharmProjects/nlp-course/workshops/gensim_glove_vectors.txt\", binary=False, limit = 200000)\n",
    "\n"
   ],
   "metadata": {
    "collapsed": false,
    "pycharm": {
     "name": "#%%\n",
     "is_executing": false
    }
   }
  },
  {
   "cell_type": "code",
   "execution_count": 4,
   "outputs": [],
   "source": [
    "w2vmodel = KeyedVectors.load_word2vec_format ( \"/Users/macbook/Downloads/GoogleNews-vectors-negative300.bin\" , binary = True , limit = 200000)\n"
   ],
   "metadata": {
    "collapsed": false,
    "pycharm": {
     "name": "#%%\n",
     "is_executing": false
    }
   }
  },
  {
   "cell_type": "code",
   "execution_count": 5,
   "outputs": [],
   "source": [
    "reviews_train = []\n",
    "for line in open(\"/Users/macbook/aclImdb/movie_data/full_train.txt\", \"r\"):\n",
    "    reviews_train.append(line.strip())\n",
    "    \n",
    "reviews_test = []\n",
    "for line in open(\"/Users/macbook/aclImdb/movie_data/full_test.txt\", \"r\"):\n",
    "    reviews_test.append(line.strip())"
   ],
   "metadata": {
    "collapsed": false,
    "pycharm": {
     "name": "#%%\n",
     "is_executing": false
    }
   }
  },
  {
   "cell_type": "code",
   "execution_count": 6,
   "outputs": [],
   "source": [
    "\n",
    "train_target = [1 if i < 12500 else 0 for i in range(25000)]\n",
    "test_target = [1 if i < 12500 else 0 for i in range(25000)]"
   ],
   "metadata": {
    "collapsed": false,
    "pycharm": {
     "name": "#%%\n",
     "is_executing": false
    }
   }
  },
  {
   "cell_type": "code",
   "execution_count": 7,
   "outputs": [],
   "source": [
    "#train_tokens = list(chain(*[[token for token in sample.lower().split()] for sample in reviews_train]))"
   ],
   "metadata": {
    "collapsed": false,
    "pycharm": {
     "name": "#%%\n",
     "is_executing": false
    }
   }
  },
  {
   "cell_type": "code",
   "execution_count": 8,
   "outputs": [],
   "source": [
    "def clean_token(inp_token):\n",
    "    for mark in string.punctuation:\n",
    "        inp_token = inp_token.replace(mark, \"\")\n",
    "    return inp_token"
   ],
   "metadata": {
    "collapsed": false,
    "pycharm": {
     "name": "#%%\n",
     "is_executing": false
    }
   }
  },
  {
   "cell_type": "code",
   "execution_count": 9,
   "outputs": [],
   "source": [
    "train_tokens_new = list(chain(*[[clean_token(token) for token in word_tokenize(sample.lower())] for sample in reviews_train]))"
   ],
   "metadata": {
    "collapsed": false,
    "pycharm": {
     "name": "#%%\n",
     "is_executing": false
    }
   }
  },
  {
   "cell_type": "code",
   "execution_count": 10,
   "outputs": [],
   "source": [
    "train_vocabulary = Counter(train_tokens_new)"
   ],
   "metadata": {
    "collapsed": false,
    "pycharm": {
     "name": "#%%\n",
     "is_executing": false
    }
   }
  },
  {
   "cell_type": "code",
   "execution_count": 11,
   "outputs": [],
   "source": [
    "UNKNOWN_TOKEN = \"unknown\"\n",
    "PAD_TOKEN = \"PAD\"\n",
    "\n",
    "index_to_token = [UNKNOWN_TOKEN] + [PAD_TOKEN] + list(train_vocabulary.keys())\n",
    "token_to_index = {token: index + 2 for index, token in enumerate(train_vocabulary.keys())}\n",
    "token_to_index[UNKNOWN_TOKEN] = 0\n",
    "token_to_index[PAD_TOKEN] = 1"
   ],
   "metadata": {
    "collapsed": false,
    "pycharm": {
     "name": "#%%\n",
     "is_executing": false
    }
   }
  },
  {
   "cell_type": "code",
   "execution_count": 15,
   "outputs": [
    {
     "name": "stdout",
     "text": [
      "60588\n"
     ],
     "output_type": "stream"
    },
    {
     "data": {
      "text/plain": "[('', 1409698),\n ('and', 222311),\n ('a', 216896),\n ('of', 196057),\n ('to', 178852),\n ('10', 2889),\n ('\\x96', 1809),\n ('robert', 1328),\n ('richard', 1182),\n ('george', 1180)]"
     },
     "metadata": {},
     "output_type": "execute_result",
     "execution_count": 15
    }
   ],
   "source": [
    "oov = Counter([token for token in train_tokens_new if token not in w2vmodel])\n",
    "print(len(oov))\n",
    "oov.most_common(10)\n"
   ],
   "metadata": {
    "collapsed": false,
    "pycharm": {
     "name": "#%%\n",
     "is_executing": false
    }
   }
  },
  {
   "cell_type": "code",
   "execution_count": 16,
   "outputs": [],
   "source": [
    "EMBEDDING_DIM = w2vmodel.vector_size\n",
    "BATCH_SIZE = 64\n",
    "MAX_INPUT_LENGTH = 100\n"
   ],
   "metadata": {
    "collapsed": false,
    "pycharm": {
     "name": "#%%\n",
     "is_executing": false
    }
   }
  },
  {
   "cell_type": "code",
   "execution_count": 17,
   "outputs": [],
   "source": [
    "def generate_batch(input_data, max_length = MAX_INPUT_LENGTH):\n",
    "    texts = torch.tensor([padding(sample[\"text\"], max_length) for sample in input_data], dtype=torch.long)\n",
    "    labels = torch.tensor([sample[\"label\"] for sample in input_data], dtype=torch.long)\n",
    "    return texts, labels\n",
    "\n",
    "def padding(text_tokens, max_length, padding_token = 0):\n",
    "    if len(text_tokens) >= max_length:\n",
    "        return text_tokens[:max_length]\n",
    "    return text_tokens + [padding_token]*(max_length - len(text_tokens))"
   ],
   "metadata": {
    "collapsed": false,
    "pycharm": {
     "name": "#%%\n",
     "is_executing": false
    }
   }
  },
  {
   "cell_type": "code",
   "execution_count": 18,
   "outputs": [],
   "source": [
    "prepared_data = []\n",
    "\n",
    "for label, text in zip(train_target, reviews_train):\n",
    "    text_tokens = [token_to_index[clean_token(token)] for token in word_tokenize(text.lower())]\n",
    "    prepared_data.append({\"label\": label, \"text\": text_tokens})"
   ],
   "metadata": {
    "collapsed": false,
    "pycharm": {
     "name": "#%%\n",
     "is_executing": false
    }
   }
  },
  {
   "cell_type": "code",
   "execution_count": 19,
   "outputs": [],
   "source": [
    "class SentimentClassificationModel(nn.Module):\n",
    "    def __init__(self, vocab_size, embed_dim, num_class):\n",
    "        super().__init__()\n",
    "        self.embedding = nn.Embedding.from_pretrained(torch.FloatTensor(w2vmodel.vectors))\n",
    "        self.fc1 = nn.Linear(embed_dim, embed_dim)\n",
    "        self.fc2 = nn.Linear(embed_dim, num_class)\n",
    "        self.init_weights()\n",
    "\n",
    "    def init_weights(self):\n",
    "        init_range = 0.5\n",
    "        self.fc1.weight.data.uniform_(-init_range, init_range)\n",
    "        self.fc1.bias.data.zero_()\n",
    "        self.fc2.weight.data.uniform_(-init_range, init_range)\n",
    "        self.fc2.bias.data.zero_()\n",
    "\n",
    "    def forward(self, text):\n",
    "        embedded = self.embedding(text)\n",
    "        Dropout(0.2)\n",
    "        fc1_output = self.fc1(embedded)\n",
    "        pooled_output, _ = fc1_output.max(dim=1)\n",
    "        return self.fc2(pooled_output)"
   ],
   "metadata": {
    "collapsed": false,
    "pycharm": {
     "name": "#%%\n",
     "is_executing": false
    }
   }
  },
  {
   "cell_type": "code",
   "execution_count": 20,
   "outputs": [],
   "source": [
    "from torch.utils.data import DataLoader\n",
    "\n",
    "def train(input_data):\n",
    "\n",
    "    # Train the model\n",
    "    train_loss = 0\n",
    "    train_acc = 0\n",
    "    data = DataLoader(input_data, batch_size=BATCH_SIZE, shuffle=True, collate_fn=generate_batch)\n",
    "    for i, (text, label) in enumerate(data):\n",
    "        optimizer.zero_grad()\n",
    "        text, label = text.to(device), label.to(device)\n",
    "        output = model(text)\n",
    "        loss = criterion(output, label)\n",
    "        train_loss += loss.item()\n",
    "        loss.backward()\n",
    "        optimizer.step()\n",
    "        train_acc += (output.argmax(1) == label).sum().item()\n",
    "\n",
    "    return train_loss / len(input_data), train_acc / len(input_data)\n",
    "\n",
    "def test(input_data):\n",
    "    loss = 0\n",
    "    acc = 0\n",
    "    data = DataLoader(input_data, batch_size=BATCH_SIZE, collate_fn=generate_batch)\n",
    "    for text, label in data:\n",
    "        text, label = text.to(device), label.to(device)\n",
    "        with torch.no_grad():\n",
    "            output = model(text)\n",
    "            loss = criterion(output, label)\n",
    "            loss += loss.item()\n",
    "            acc += (output.argmax(1) == label).sum().item()\n",
    "\n",
    "    return loss / len(input_data), acc / len(input_data)"
   ],
   "metadata": {
    "collapsed": false,
    "pycharm": {
     "name": "#%%\n",
     "is_executing": false
    }
   }
  },
  {
   "cell_type": "code",
   "execution_count": 21,
   "outputs": [],
   "source": [
    "import random\n",
    "import numpy\n",
    "\n",
    "def set_seed(seed: int, n_gpu: int):\n",
    "    random.seed(seed)\n",
    "    numpy.random.seed(seed)\n",
    "    torch.manual_seed(seed)\n",
    "    if n_gpu > 0:\n",
    "        torch.cuda.manual_seed_all(seed)\n",
    "        \n",
    "set_seed(42, 1)\n"
   ],
   "metadata": {
    "collapsed": false,
    "pycharm": {
     "name": "#%%\n",
     "is_executing": false
    }
   }
  },
  {
   "cell_type": "code",
   "execution_count": 22,
   "outputs": [],
   "source": [
    "device = torch.device(\"cuda:1\" if torch.cuda.is_available() else \"cpu\")"
   ],
   "metadata": {
    "collapsed": false,
    "pycharm": {
     "name": "#%%\n",
     "is_executing": false
    }
   }
  },
  {
   "cell_type": "code",
   "execution_count": 23,
   "outputs": [],
   "source": [
    "model = SentimentClassificationModel(vocab_size=len(index_to_token), embed_dim=EMBEDDING_DIM, num_class=len(set(train_target))).to(device)\n"
   ],
   "metadata": {
    "collapsed": false,
    "pycharm": {
     "name": "#%%\n",
     "is_executing": false
    }
   }
  },
  {
   "cell_type": "code",
   "execution_count": 29,
   "outputs": [
    {
     "name": "stdout",
     "text": [
      "Epoch: 1  | time in 0 minutes, 18 seconds\n",
      "\tLoss: 0.0088(train)\t|\tAcc: 70.2%(train)\n",
      "\tLoss: 0.0010(valid)\t|\tAcc: 66.2%(valid)\n",
      "Epoch: 2  | time in 0 minutes, 18 seconds\n",
      "\tLoss: 0.0086(train)\t|\tAcc: 70.9%(train)\n",
      "\tLoss: 0.0011(valid)\t|\tAcc: 67.9%(valid)\n",
      "Epoch: 3  | time in 0 minutes, 22 seconds\n",
      "\tLoss: 0.0084(train)\t|\tAcc: 71.9%(train)\n",
      "\tLoss: 0.0010(valid)\t|\tAcc: 71.6%(valid)\n",
      "Epoch: 4  | time in 0 minutes, 27 seconds\n",
      "\tLoss: 0.0083(train)\t|\tAcc: 72.8%(train)\n",
      "\tLoss: 0.0010(valid)\t|\tAcc: 71.5%(valid)\n",
      "Epoch: 5  | time in 0 minutes, 20 seconds\n",
      "\tLoss: 0.0081(train)\t|\tAcc: 73.4%(train)\n",
      "\tLoss: 0.0010(valid)\t|\tAcc: 70.8%(valid)\n"
     ],
     "output_type": "stream"
    }
   ],
   "source": [
    "import time\n",
    "from torch.utils.data.dataset import random_split\n",
    "\n",
    "N_EPOCHS = 5\n",
    "min_valid_loss = float('inf')\n",
    "\n",
    "criterion = torch.nn.CrossEntropyLoss().to(device)\n",
    "optimizer = torch.optim.SGD(model.parameters(), lr=0.07)\n",
    "\n",
    "train_len = int(len(prepared_data) * 0.95)\n",
    "train_data, validation_data = \\\n",
    "    random_split(prepared_data, [train_len, len(prepared_data) - train_len])\n",
    "\n",
    "for epoch in range(N_EPOCHS):\n",
    "\n",
    "    start_time = time.time()\n",
    "    train_loss, train_acc = train(train_data)\n",
    "    valid_loss, valid_acc = test(validation_data)\n",
    "\n",
    "    secs = int(time.time() - start_time)\n",
    "    mins = secs / 60\n",
    "    secs = secs % 60\n",
    "\n",
    "    print('Epoch: %d' %(epoch + 1), \" | time in %d minutes, %d seconds\" %(mins, secs))\n",
    "    print(f'\\tLoss: {train_loss:.4f}(train)\\t|\\tAcc: {train_acc * 100:.1f}%(train)')\n",
    "    print(f'\\tLoss: {valid_loss:.4f}(valid)\\t|\\tAcc: {valid_acc * 100:.1f}%(valid)')\n"
   ],
   "metadata": {
    "collapsed": false,
    "pycharm": {
     "name": "#%%\n",
     "is_executing": false
    }
   }
  },
  {
   "cell_type": "code",
   "execution_count": 25,
   "outputs": [],
   "source": [
    "prepared_test_data = []\n",
    "\n",
    "for label, text in zip(test_target, reviews_test):\n",
    "    text_tokens = [token_to_index.get(clean_token(token), 0) for token in word_tokenize(text.lower())]\n",
    "    prepared_test_data.append({\"label\": label, \"text\": text_tokens})"
   ],
   "metadata": {
    "collapsed": false,
    "pycharm": {
     "name": "#%%\n",
     "is_executing": false
    }
   }
  },
  {
   "cell_type": "code",
   "execution_count": 30,
   "outputs": [
    {
     "data": {
      "text/plain": "(tensor(3.9672e-05), 0.61976)"
     },
     "metadata": {},
     "output_type": "execute_result",
     "execution_count": 30
    }
   ],
   "source": [
    "test(prepared_test_data)"
   ],
   "metadata": {
    "collapsed": false,
    "pycharm": {
     "name": "#%%\n",
     "is_executing": false
    }
   }
  },
  {
   "cell_type": "code",
   "execution_count": null,
   "outputs": [],
   "source": [
    "\n"
   ],
   "metadata": {
    "collapsed": false,
    "pycharm": {
     "name": "#%%\n"
    }
   }
  }
 ],
 "metadata": {
  "kernelspec": {
   "display_name": "Python 3",
   "language": "python",
   "name": "python3"
  },
  "language_info": {
   "codemirror_mode": {
    "name": "ipython",
    "version": 2
   },
   "file_extension": ".py",
   "mimetype": "text/x-python",
   "name": "python",
   "nbconvert_exporter": "python",
   "pygments_lexer": "ipython2",
   "version": "2.7.6"
  },
  "pycharm": {
   "stem_cell": {
    "cell_type": "raw",
    "source": [],
    "metadata": {
     "collapsed": false
    }
   }
  }
 },
 "nbformat": 4,
 "nbformat_minor": 0
}